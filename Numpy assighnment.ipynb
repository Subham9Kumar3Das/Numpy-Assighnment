{
 "cells": [
  {
   "cell_type": "code",
   "execution_count": 2,
   "id": "f3fce803-672d-46c9-af24-95b004503eaa",
   "metadata": {},
   "outputs": [],
   "source": [
    "import numpy as np\n",
    "list_ = [ '1' , '2' , '3' , '4' , '5' ]\n",
    "array_list = np.array(object = list_)"
   ]
  },
  {
   "cell_type": "markdown",
   "id": "7836366c-04ea-405e-80d4-8037467a6a5b",
   "metadata": {
    "jp-MarkdownHeadingCollapsed": true,
    "tags": []
   },
   "source": [
    "### Q1. Is there any difference in the data type of variables list_ and array_list? If there is then write a code to print the data types of both the variables."
   ]
  },
  {
   "cell_type": "code",
   "execution_count": 5,
   "id": "083393a0-0ab7-4abb-9259-df45caae0646",
   "metadata": {},
   "outputs": [
    {
     "data": {
      "text/plain": [
       "list"
      ]
     },
     "execution_count": 5,
     "metadata": {},
     "output_type": "execute_result"
    }
   ],
   "source": [
    "type(list_)"
   ]
  },
  {
   "cell_type": "code",
   "execution_count": 4,
   "id": "2377522d-f649-4910-91d4-864c7faaa037",
   "metadata": {},
   "outputs": [
    {
     "data": {
      "text/plain": [
       "numpy.ndarray"
      ]
     },
     "execution_count": 4,
     "metadata": {},
     "output_type": "execute_result"
    }
   ],
   "source": [
    "type(array_list)"
   ]
  },
  {
   "cell_type": "markdown",
   "id": "26589b37-e902-4913-8897-b5d17b06c9c7",
   "metadata": {},
   "source": [
    "Yes there is a difference in there data types list_ shows list data type and array_list shows numpy.ndarray."
   ]
  },
  {
   "cell_type": "markdown",
   "id": "52ad55dd-90b7-436b-8190-879b9688c66c",
   "metadata": {
    "jp-MarkdownHeadingCollapsed": true,
    "tags": []
   },
   "source": [
    "### Q2. Write a code to print the data type of each and every element of both the variables list_ and arra_list."
   ]
  },
  {
   "cell_type": "code",
   "execution_count": 15,
   "id": "f62afe83-baff-47be-82b3-6b6c30a35cf7",
   "metadata": {},
   "outputs": [
    {
     "name": "stdout",
     "output_type": "stream",
     "text": [
      "For list_\n",
      "1  data type <class 'str'>\n",
      "2  data type <class 'str'>\n",
      "3  data type <class 'str'>\n",
      "4  data type <class 'str'>\n",
      "5  data type <class 'str'>\n",
      "For array_list\n",
      "1  data type <class 'numpy.str_'>\n",
      "2  data type <class 'numpy.str_'>\n",
      "3  data type <class 'numpy.str_'>\n",
      "4  data type <class 'numpy.str_'>\n",
      "5  data type <class 'numpy.str_'>\n"
     ]
    }
   ],
   "source": [
    "print('For list_')\n",
    "for i in list_:\n",
    "    print(i,' data type',type(i))\n",
    "print('For array_list')\n",
    "for i in array_list:\n",
    "    print(i,' data type',type(i))"
   ]
  },
  {
   "cell_type": "markdown",
   "id": "85654251-2968-44cb-af10-ee7b0fd83717",
   "metadata": {
    "jp-MarkdownHeadingCollapsed": true,
    "tags": []
   },
   "source": [
    "### Q3. Considering the following changes in the variable, array_list:\n",
    "### array_list = np.array(object = list_, dtype = int)\n",
    "### Will there be any difference in the data type of the elements present in both the variables, list_ and arra_list? If so then print the data types of each and every element present in both the variables, list_ and arra_list."
   ]
  },
  {
   "cell_type": "code",
   "execution_count": 16,
   "id": "a32a0d66-d7ec-4718-810a-0093a19aaae5",
   "metadata": {},
   "outputs": [],
   "source": [
    "array_list = np.array(object = list_, dtype = int)"
   ]
  },
  {
   "cell_type": "markdown",
   "id": "84df6a47-ce0a-4a81-903b-b528145fdfa6",
   "metadata": {},
   "source": [
    "Yes Data type will change from string to int data type of array."
   ]
  },
  {
   "cell_type": "code",
   "execution_count": 17,
   "id": "1bb156c0-77f2-4bba-8314-716dd1be726d",
   "metadata": {},
   "outputs": [
    {
     "name": "stdout",
     "output_type": "stream",
     "text": [
      "For list_\n",
      "1  data type <class 'str'>\n",
      "2  data type <class 'str'>\n",
      "3  data type <class 'str'>\n",
      "4  data type <class 'str'>\n",
      "5  data type <class 'str'>\n",
      "For array_list\n",
      "1  data type <class 'numpy.int64'>\n",
      "2  data type <class 'numpy.int64'>\n",
      "3  data type <class 'numpy.int64'>\n",
      "4  data type <class 'numpy.int64'>\n",
      "5  data type <class 'numpy.int64'>\n"
     ]
    }
   ],
   "source": [
    "print('For list_')\n",
    "for i in list_:\n",
    "    print(i,' data type',type(i))\n",
    "print('For array_list')\n",
    "for i in array_list:\n",
    "    print(i,' data type',type(i))"
   ]
  },
  {
   "cell_type": "markdown",
   "id": "c89a50ac-84d7-4188-a8de-7d0c97d38ccd",
   "metadata": {
    "jp-MarkdownHeadingCollapsed": true,
    "tags": []
   },
   "source": [
    "### Q4. Write a code to find the following characteristics of variable, num_array:\n",
    "### (i) shape\n",
    "### (ii) size"
   ]
  },
  {
   "cell_type": "code",
   "execution_count": 18,
   "id": "67767881-fac9-4a6d-99b7-f70be761f213",
   "metadata": {},
   "outputs": [],
   "source": [
    "import numpy as np\n",
    "num_list = [ [ 1 , 2 , 3 ] , [ 4 , 5 , 6 ] ]\n",
    "num_array = np.array(object = num_list)"
   ]
  },
  {
   "cell_type": "markdown",
   "id": "2a1a2ee0-2953-433a-9044-9a98305f3c2b",
   "metadata": {},
   "source": [
    "np.shape(num_array)"
   ]
  },
  {
   "cell_type": "markdown",
   "id": "04552e5b-abc8-4319-a6cc-a90ad4eb8a87",
   "metadata": {},
   "source": [
    "np.size(num_array)"
   ]
  },
  {
   "cell_type": "markdown",
   "id": "b7821ae0-f42a-45a7-a1c8-26dee50a448d",
   "metadata": {
    "jp-MarkdownHeadingCollapsed": true,
    "tags": []
   },
   "source": [
    "### Q5. Write a code to create numpy array of 3*3 matrix containing zeros only, using a numpy array creation function.\n",
    "### [Hint: The size of the array will be 9 and the shape will be (3,3).]"
   ]
  },
  {
   "cell_type": "code",
   "execution_count": 22,
   "id": "76c11068-6073-4163-ae4a-d4a4767bc737",
   "metadata": {},
   "outputs": [
    {
     "data": {
      "text/plain": [
       "array([[0., 0., 0.],\n",
       "       [0., 0., 0.],\n",
       "       [0., 0., 0.]])"
      ]
     },
     "execution_count": 22,
     "metadata": {},
     "output_type": "execute_result"
    }
   ],
   "source": [
    "np.zeros((3,3))"
   ]
  },
  {
   "cell_type": "markdown",
   "id": "010b23d1-b475-4918-94da-7fd8de080dfb",
   "metadata": {
    "jp-MarkdownHeadingCollapsed": true,
    "tags": []
   },
   "source": [
    "### Q6. Create an identity matrix of shape (5,5) using numpy functions?\n",
    "### [Hint: An identity matrix is a matrix containing 1 diagonally and other elements will be 0.]"
   ]
  },
  {
   "cell_type": "code",
   "execution_count": 23,
   "id": "482c598f-8e8b-4239-a696-505e16b6b3bd",
   "metadata": {},
   "outputs": [
    {
     "data": {
      "text/plain": [
       "array([[1., 0., 0., 0., 0.],\n",
       "       [0., 1., 0., 0., 0.],\n",
       "       [0., 0., 1., 0., 0.],\n",
       "       [0., 0., 0., 1., 0.],\n",
       "       [0., 0., 0., 0., 1.]])"
      ]
     },
     "execution_count": 23,
     "metadata": {},
     "output_type": "execute_result"
    }
   ],
   "source": [
    "np.eye(5,5)"
   ]
  },
  {
   "cell_type": "code",
   "execution_count": null,
   "id": "4815ea45-22fc-4bca-9374-1e5ffe3bfe9b",
   "metadata": {},
   "outputs": [],
   "source": []
  }
 ],
 "metadata": {
  "kernelspec": {
   "display_name": "Python 3 (ipykernel)",
   "language": "python",
   "name": "python3"
  },
  "language_info": {
   "codemirror_mode": {
    "name": "ipython",
    "version": 3
   },
   "file_extension": ".py",
   "mimetype": "text/x-python",
   "name": "python",
   "nbconvert_exporter": "python",
   "pygments_lexer": "ipython3",
   "version": "3.10.8"
  }
 },
 "nbformat": 4,
 "nbformat_minor": 5
}
